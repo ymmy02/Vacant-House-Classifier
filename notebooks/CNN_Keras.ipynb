{
 "cells": [
  {
   "cell_type": "markdown",
   "metadata": {},
   "source": [
    "# CNNをKerasで構築し、空き家かそうでないかを分類"
   ]
  },
  {
   "cell_type": "code",
   "execution_count": 1,
   "metadata": {},
   "outputs": [
    {
     "name": "stderr",
     "output_type": "stream",
     "text": [
      "Using TensorFlow backend.\n"
     ]
    }
   ],
   "source": [
    "from keras.preprocessing.image import ImageDataGenerator\n",
    "from keras.models import Sequential\n",
    "from keras.layers import Conv2D, MaxPooling2D\n",
    "from keras.layers import Activation, Dropout, Flatten, Dense\n",
    "from keras import backend as K"
   ]
  },
  {
   "cell_type": "code",
   "execution_count": 2,
   "metadata": {},
   "outputs": [],
   "source": [
    "img_width, img_height = 150, 150\n",
    "\n",
    "train_data_dir = '../data/dataset/train'\n",
    "validation_data_dir = '../data/dataset/validation'\n",
    "nb_train_samples = 1830\n",
    "nb_validation_samples = 820\n",
    "epochs = 50\n",
    "batch_size = 16\n",
    "\n",
    "if K.image_data_format() == 'channels_first':\n",
    "    input_shape = (3, img_width, img_height)\n",
    "else:\n",
    "    input_shape = (img_width, img_height, 3)"
   ]
  },
  {
   "cell_type": "code",
   "execution_count": 3,
   "metadata": {},
   "outputs": [
    {
     "name": "stdout",
     "output_type": "stream",
     "text": [
      "WARNING:tensorflow:From /usr/local/lib/python3.7/site-packages/tensorflow/python/framework/op_def_library.py:263: colocate_with (from tensorflow.python.framework.ops) is deprecated and will be removed in a future version.\n",
      "Instructions for updating:\n",
      "Colocations handled automatically by placer.\n",
      "WARNING:tensorflow:From /usr/local/lib/python3.7/site-packages/keras/backend/tensorflow_backend.py:3445: calling dropout (from tensorflow.python.ops.nn_ops) with keep_prob is deprecated and will be removed in a future version.\n",
      "Instructions for updating:\n",
      "Please use `rate` instead of `keep_prob`. Rate should be set to `rate = 1 - keep_prob`.\n"
     ]
    }
   ],
   "source": [
    "# Keras Model\n",
    "model = Sequential()\n",
    "model.add(Conv2D(32, (3, 3), input_shape=input_shape))\n",
    "model.add(Activation('relu'))\n",
    "model.add(MaxPooling2D(pool_size=(2, 2)))\n",
    "\n",
    "model.add(Conv2D(32, (3, 3)))\n",
    "model.add(Activation('relu'))\n",
    "model.add(MaxPooling2D(pool_size=(2, 2)))\n",
    "\n",
    "model.add(Conv2D(64, (3, 3)))\n",
    "model.add(Activation('relu'))\n",
    "model.add(MaxPooling2D(pool_size=(2, 2)))\n",
    "\n",
    "model.add(Flatten())\n",
    "model.add(Dense(64))\n",
    "model.add(Activation('relu'))\n",
    "model.add(Dropout(0.5))\n",
    "model.add(Dense(1))\n",
    "model.add(Activation('sigmoid'))\n",
    "\n",
    "model.compile(loss='binary_crossentropy',\n",
    "              optimizer='rmsprop',\n",
    "              metrics=['accuracy'])"
   ]
  },
  {
   "cell_type": "code",
   "execution_count": 4,
   "metadata": {},
   "outputs": [
    {
     "name": "stdout",
     "output_type": "stream",
     "text": [
      "Found 1829 images belonging to 2 classes.\n",
      "Found 821 images belonging to 2 classes.\n"
     ]
    }
   ],
   "source": [
    "train_datagen = ImageDataGenerator(\n",
    "    rescale=1. / 255,\n",
    "    shear_range=0.2,\n",
    "    zoom_range=0.2,\n",
    "    horizontal_flip=True)\n",
    "\n",
    "test_datagen = ImageDataGenerator(rescale=1. / 255)\n",
    "\n",
    "train_generator = train_datagen.flow_from_directory(\n",
    "    train_data_dir,\n",
    "    target_size=(img_width, img_height),\n",
    "    batch_size=batch_size,\n",
    "    class_mode='binary')\n",
    "\n",
    "validation_generator = test_datagen.flow_from_directory(\n",
    "    validation_data_dir,\n",
    "    target_size=(img_width, img_height),\n",
    "    batch_size=batch_size,\n",
    "    class_mode='binary')"
   ]
  },
  {
   "cell_type": "code",
   "execution_count": 5,
   "metadata": {
    "scrolled": true
   },
   "outputs": [
    {
     "name": "stdout",
     "output_type": "stream",
     "text": [
      "WARNING:tensorflow:From /usr/local/lib/python3.7/site-packages/tensorflow/python/ops/math_ops.py:3066: to_int32 (from tensorflow.python.ops.math_ops) is deprecated and will be removed in a future version.\n",
      "Instructions for updating:\n",
      "Use tf.cast instead.\n",
      "Epoch 1/50\n",
      "114/114 [==============================] - 131s 1s/step - loss: 0.6956 - acc: 0.6223 - val_loss: 0.4198 - val_acc: 0.8787\n",
      "Epoch 2/50\n",
      "114/114 [==============================] - 133s 1s/step - loss: 0.4903 - acc: 0.8026 - val_loss: 1.3556 - val_acc: 0.4919\n",
      "Epoch 3/50\n",
      "114/114 [==============================] - 126s 1s/step - loss: 0.3385 - acc: 0.8683 - val_loss: 0.4862 - val_acc: 0.8012\n",
      "Epoch 4/50\n",
      "114/114 [==============================] - 130s 1s/step - loss: 0.2758 - acc: 0.9041 - val_loss: 0.4474 - val_acc: 0.8534\n",
      "Epoch 5/50\n",
      "114/114 [==============================] - 141s 1s/step - loss: 0.2409 - acc: 0.9134 - val_loss: 2.5806 - val_acc: 0.4969\n",
      "Epoch 6/50\n",
      "114/114 [==============================] - 140s 1s/step - loss: 0.2312 - acc: 0.9182 - val_loss: 0.9578 - val_acc: 0.7404\n",
      "Epoch 7/50\n",
      "114/114 [==============================] - 146s 1s/step - loss: 0.1935 - acc: 0.9369 - val_loss: 1.4074 - val_acc: 0.6870\n",
      "Epoch 8/50\n",
      "114/114 [==============================] - 156s 1s/step - loss: 0.2018 - acc: 0.9305 - val_loss: 0.9238 - val_acc: 0.7193\n",
      "Epoch 9/50\n",
      "114/114 [==============================] - 147s 1s/step - loss: 0.1602 - acc: 0.9452 - val_loss: 2.1813 - val_acc: 0.5652\n",
      "Epoch 10/50\n",
      "114/114 [==============================] - 183s 2s/step - loss: 0.1505 - acc: 0.9490 - val_loss: 0.8646 - val_acc: 0.7776\n",
      "Epoch 11/50\n",
      "114/114 [==============================] - 164s 1s/step - loss: 0.1619 - acc: 0.9474 - val_loss: 1.1699 - val_acc: 0.7702\n",
      "Epoch 12/50\n",
      "114/114 [==============================] - 176s 2s/step - loss: 0.1413 - acc: 0.9571 - val_loss: 1.2683 - val_acc: 0.7391\n",
      "Epoch 13/50\n",
      "114/114 [==============================] - 179s 2s/step - loss: 0.1218 - acc: 0.9528 - val_loss: 1.4721 - val_acc: 0.6758\n",
      "Epoch 14/50\n",
      "114/114 [==============================] - 163s 1s/step - loss: 0.1267 - acc: 0.9604 - val_loss: 0.2860 - val_acc: 0.9317\n",
      "Epoch 15/50\n",
      "114/114 [==============================] - 147s 1s/step - loss: 0.1729 - acc: 0.9490 - val_loss: 1.7023 - val_acc: 0.6261\n",
      "Epoch 16/50\n",
      "114/114 [==============================] - 137s 1s/step - loss: 0.1027 - acc: 0.9687 - val_loss: 1.8544 - val_acc: 0.7267\n",
      "Epoch 17/50\n",
      "114/114 [==============================] - 122s 1s/step - loss: 0.1253 - acc: 0.9627 - val_loss: 1.1349 - val_acc: 0.7764\n",
      "Epoch 18/50\n",
      "114/114 [==============================] - 173s 2s/step - loss: 0.1027 - acc: 0.9709 - val_loss: 2.4392 - val_acc: 0.5714\n",
      "Epoch 19/50\n",
      "114/114 [==============================] - 156s 1s/step - loss: 0.1040 - acc: 0.9686 - val_loss: 1.2130 - val_acc: 0.7677\n",
      "Epoch 20/50\n",
      "114/114 [==============================] - 109s 952ms/step - loss: 0.1180 - acc: 0.9671 - val_loss: 1.2287 - val_acc: 0.7888\n",
      "Epoch 21/50\n",
      "114/114 [==============================] - 141s 1s/step - loss: 0.1183 - acc: 0.9587 - val_loss: 0.9158 - val_acc: 0.8398\n",
      "Epoch 22/50\n",
      "114/114 [==============================] - 166s 1s/step - loss: 0.1270 - acc: 0.9627 - val_loss: 1.0223 - val_acc: 0.7789\n",
      "Epoch 23/50\n",
      "114/114 [==============================] - 173s 2s/step - loss: 0.0956 - acc: 0.9687 - val_loss: 2.4039 - val_acc: 0.6957\n",
      "Epoch 24/50\n",
      "114/114 [==============================] - 136s 1s/step - loss: 0.1104 - acc: 0.9742 - val_loss: 4.5666 - val_acc: 0.3640\n",
      "Epoch 25/50\n",
      "114/114 [==============================] - 164s 1s/step - loss: 0.1029 - acc: 0.9704 - val_loss: 1.2887 - val_acc: 0.8261\n",
      "Epoch 26/50\n",
      "114/114 [==============================] - 159s 1s/step - loss: 0.1089 - acc: 0.9709 - val_loss: 0.9793 - val_acc: 0.8012\n",
      "Epoch 27/50\n",
      "114/114 [==============================] - 158s 1s/step - loss: 0.0971 - acc: 0.9742 - val_loss: 0.1474 - val_acc: 0.9665\n",
      "Epoch 28/50\n",
      "114/114 [==============================] - 193s 2s/step - loss: 0.1124 - acc: 0.9687 - val_loss: 1.0508 - val_acc: 0.8062\n",
      "Epoch 29/50\n",
      "114/114 [==============================] - 159s 1s/step - loss: 0.0928 - acc: 0.9720 - val_loss: 2.1441 - val_acc: 0.7516\n",
      "Epoch 30/50\n",
      "114/114 [==============================] - 158s 1s/step - loss: 0.1644 - acc: 0.9726 - val_loss: 0.8319 - val_acc: 0.8894\n",
      "Epoch 31/50\n",
      "114/114 [==============================] - 141s 1s/step - loss: 0.1316 - acc: 0.9702 - val_loss: 1.1062 - val_acc: 0.8087\n",
      "Epoch 32/50\n",
      "114/114 [==============================] - 154s 1s/step - loss: 0.0798 - acc: 0.9763 - val_loss: 1.2462 - val_acc: 0.8099\n",
      "Epoch 33/50\n",
      "114/114 [==============================] - 135s 1s/step - loss: 0.1062 - acc: 0.9709 - val_loss: 1.3496 - val_acc: 0.8000\n",
      "Epoch 34/50\n",
      "114/114 [==============================] - 136s 1s/step - loss: 0.0905 - acc: 0.9726 - val_loss: 0.5469 - val_acc: 0.8845\n",
      "Epoch 35/50\n",
      "114/114 [==============================] - 130s 1s/step - loss: 0.0813 - acc: 0.9808 - val_loss: 0.9064 - val_acc: 0.8932\n",
      "Epoch 36/50\n",
      "114/114 [==============================] - 123s 1s/step - loss: 0.1057 - acc: 0.9748 - val_loss: 0.9264 - val_acc: 0.8832\n",
      "Epoch 37/50\n",
      "114/114 [==============================] - 645s 6s/step - loss: 0.1082 - acc: 0.9803 - val_loss: 0.5729 - val_acc: 0.9093\n",
      "Epoch 38/50\n",
      "114/114 [==============================] - 86s 754ms/step - loss: 0.0677 - acc: 0.9781 - val_loss: 0.6430 - val_acc: 0.8981\n",
      "Epoch 39/50\n",
      "114/114 [==============================] - 88s 775ms/step - loss: 0.1061 - acc: 0.9698 - val_loss: 2.8294 - val_acc: 0.7093\n",
      "Epoch 40/50\n",
      "114/114 [==============================] - 93s 812ms/step - loss: 0.0669 - acc: 0.9813 - val_loss: 2.8372 - val_acc: 0.7205\n",
      "Epoch 41/50\n",
      "114/114 [==============================] - 539s 5s/step - loss: 0.1017 - acc: 0.9797 - val_loss: 2.5859 - val_acc: 0.6944\n",
      "Epoch 42/50\n",
      "114/114 [==============================] - 99s 873ms/step - loss: 0.0815 - acc: 0.9803 - val_loss: 1.5773 - val_acc: 0.8012\n",
      "Epoch 43/50\n",
      "114/114 [==============================] - 89s 782ms/step - loss: 0.0896 - acc: 0.9825 - val_loss: 2.3037 - val_acc: 0.7516\n",
      "Epoch 44/50\n",
      "114/114 [==============================] - 94s 823ms/step - loss: 0.0835 - acc: 0.9836 - val_loss: 1.9314 - val_acc: 0.8062\n",
      "Epoch 45/50\n",
      "114/114 [==============================] - 113s 987ms/step - loss: 0.0937 - acc: 0.9803 - val_loss: 3.8362 - val_acc: 0.5627\n",
      "Epoch 46/50\n",
      "114/114 [==============================] - 106s 929ms/step - loss: 0.0710 - acc: 0.9775 - val_loss: 1.0763 - val_acc: 0.8807\n",
      "Epoch 47/50\n",
      "114/114 [==============================] - 125s 1s/step - loss: 0.0967 - acc: 0.9775 - val_loss: 0.6689 - val_acc: 0.9205\n",
      "Epoch 48/50\n",
      "114/114 [==============================] - 108s 947ms/step - loss: 0.1020 - acc: 0.9736 - val_loss: 0.9820 - val_acc: 0.8957\n",
      "Epoch 49/50\n",
      "114/114 [==============================] - 112s 980ms/step - loss: 0.0979 - acc: 0.9775 - val_loss: 0.3742 - val_acc: 0.9478\n",
      "Epoch 50/50\n",
      "114/114 [==============================] - 131s 1s/step - loss: 0.1073 - acc: 0.9797 - val_loss: 0.6295 - val_acc: 0.9379\n"
     ]
    }
   ],
   "source": [
    "history = model.fit_generator(\n",
    "    train_generator,\n",
    "    steps_per_epoch=nb_train_samples // batch_size,\n",
    "    epochs=epochs,\n",
    "    validation_data=validation_generator,\n",
    "    validation_steps=nb_validation_samples // batch_size)"
   ]
  },
  {
   "cell_type": "code",
   "execution_count": 6,
   "metadata": {},
   "outputs": [],
   "source": [
    "model.save_weights('cnn_keras.h5')"
   ]
  },
  {
   "cell_type": "code",
   "execution_count": 7,
   "metadata": {},
   "outputs": [],
   "source": [
    "import matplotlib.pyplot as plt\n",
    "%matplotlib inline"
   ]
  },
  {
   "cell_type": "code",
   "execution_count": 8,
   "metadata": {},
   "outputs": [
    {
     "data": {
      "image/png": "[encoded data removed]",
      "text/plain": [
       "<Figure size 432x288 with 1 Axes>"
      ]
     },
     "metadata": {
      "needs_background": "light"
     },
     "output_type": "display_data"
    }
   ],
   "source": [
    "# summarize history for accuracy\n",
    "plt.plot(history.history['acc'])\n",
    "plt.plot(history.history['val_acc'])\n",
    "plt.title('model accuracy')\n",
    "plt.ylabel('accuracy')\n",
    "plt.xlabel('epoch')\n",
    "plt.legend(['train', 'test'], loc='upper left')\n",
    "plt.show()"
   ]
  },
  {
   "cell_type": "code",
   "execution_count": 9,
   "metadata": {},
   "outputs": [
    {
     "data": {
      "image/png": "[encoded data removed]",
      "text/plain": [
       "<Figure size 432x288 with 1 Axes>"
      ]
     },
     "metadata": {
      "needs_background": "light"
     },
     "output_type": "display_data"
    }
   ],
   "source": [
    "# summarize history for loss\n",
    "plt.plot(history.history['loss'])\n",
    "plt.plot(history.history['val_loss'])\n",
    "plt.title('model loss')\n",
    "plt.ylabel('loss')\n",
    "plt.xlabel('epoch')\n",
    "plt.legend(['train', 'test'], loc='upper left')\n",
    "plt.show()"
   ]
  },
  {
   "cell_type": "code",
   "execution_count": null,
   "metadata": {},
   "outputs": [],
   "source": []
  }
 ],
 "metadata": {
  "kernelspec": {
   "display_name": "Python 3",
   "language": "python",
   "name": "python3"
  },
  "language_info": {
   "codemirror_mode": {
    "name": "ipython",
    "version": 3
   },
   "file_extension": ".py",
   "mimetype": "text/x-python",
   "name": "python",
   "nbconvert_exporter": "python",
   "pygments_lexer": "ipython3",
   "version": "3.7.2"
  }
 },
 "nbformat": 4,
 "nbformat_minor": 2
}
